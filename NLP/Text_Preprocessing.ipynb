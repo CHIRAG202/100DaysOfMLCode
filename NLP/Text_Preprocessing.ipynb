{
  "nbformat": 4,
  "nbformat_minor": 0,
  "metadata": {
    "colab": {
      "name": "Text Preprocessing.ipynb",
      "provenance": [],
      "authorship_tag": "ABX9TyMz2BC0hhc7o50GuSaKXRsZ",
      "include_colab_link": true
    },
    "kernelspec": {
      "name": "python3",
      "display_name": "Python 3"
    },
    "accelerator": "TPU"
  },
  "cells": [
    {
      "cell_type": "markdown",
      "metadata": {
        "id": "view-in-github",
        "colab_type": "text"
      },
      "source": [
        "<a href=\"https://colab.research.google.com/github/neha-duggirala/100DaysOfMLCode/blob/master/NLP/Text_Preprocessing.ipynb\" target=\"_parent\"><img src=\"https://colab.research.google.com/assets/colab-badge.svg\" alt=\"Open In Colab\"/></a>"
      ]
    },
    {
      "cell_type": "code",
      "metadata": {
        "id": "bSr82-4tbJQS",
        "colab_type": "code",
        "colab": {}
      },
      "source": [
        "import tensorflow as tf\n",
        "from tensorflow import keras\n",
        "from tensorflow.keras.preprocessing.text import Tokenizer\n",
        "from tensorflow.keras.preprocessing.sequence import pad_sequences"
      ],
      "execution_count": 0,
      "outputs": []
    },
    {
      "cell_type": "code",
      "metadata": {
        "id": "x4P9T2kabOv3",
        "colab_type": "code",
        "colab": {}
      },
      "source": [
        "sentences = ['How you doin','WE WERE ON A BREAK!','Oh, my God! If you say that one more time, Im gonna break up with you']"
      ],
      "execution_count": 0,
      "outputs": []
    },
    {
      "cell_type": "code",
      "metadata": {
        "id": "Gm0b0mJtcRL-",
        "colab_type": "code",
        "colab": {}
      },
      "source": [
        "tokenizer = Tokenizer(num_words=50,oov_token='<out of vocab>')"
      ],
      "execution_count": 0,
      "outputs": []
    },
    {
      "cell_type": "code",
      "metadata": {
        "id": "aHoW53UUcb6S",
        "colab_type": "code",
        "colab": {}
      },
      "source": [
        "tokenizer.fit_on_texts(sentences)"
      ],
      "execution_count": 0,
      "outputs": []
    },
    {
      "cell_type": "code",
      "metadata": {
        "id": "JzgSbCiNcdL3",
        "colab_type": "code",
        "colab": {
          "base_uri": "https://localhost:8080/",
          "height": 391
        },
        "outputId": "1f67d20c-a520-41e8-a0f8-9c472b9f52f0"
      },
      "source": [
        "word_index = tokenizer.word_index\n",
        "word_index"
      ],
      "execution_count": 33,
      "outputs": [
        {
          "output_type": "execute_result",
          "data": {
            "text/plain": [
              "{'<out of vocab>': 1,\n",
              " 'a': 9,\n",
              " 'break': 3,\n",
              " 'doin': 5,\n",
              " 'god': 12,\n",
              " 'gonna': 20,\n",
              " 'how': 4,\n",
              " 'if': 13,\n",
              " 'im': 19,\n",
              " 'more': 17,\n",
              " 'my': 11,\n",
              " 'oh': 10,\n",
              " 'on': 8,\n",
              " 'one': 16,\n",
              " 'say': 14,\n",
              " 'that': 15,\n",
              " 'time': 18,\n",
              " 'up': 21,\n",
              " 'we': 6,\n",
              " 'were': 7,\n",
              " 'with': 22,\n",
              " 'you': 2}"
            ]
          },
          "metadata": {
            "tags": []
          },
          "execution_count": 33
        }
      ]
    },
    {
      "cell_type": "code",
      "metadata": {
        "id": "rDAx2xPOcpol",
        "colab_type": "code",
        "colab": {
          "base_uri": "https://localhost:8080/",
          "height": 408
        },
        "outputId": "98388a0d-dc44-4c7d-d286-66a36137fc75"
      },
      "source": [
        "words = [0]*(max(word_index.values())+1)\n",
        "for item in word_index.items():\n",
        "  words[item[1]]=item[0]\n",
        "words"
      ],
      "execution_count": 34,
      "outputs": [
        {
          "output_type": "execute_result",
          "data": {
            "text/plain": [
              "[0,\n",
              " '<out of vocab>',\n",
              " 'you',\n",
              " 'break',\n",
              " 'how',\n",
              " 'doin',\n",
              " 'we',\n",
              " 'were',\n",
              " 'on',\n",
              " 'a',\n",
              " 'oh',\n",
              " 'my',\n",
              " 'god',\n",
              " 'if',\n",
              " 'say',\n",
              " 'that',\n",
              " 'one',\n",
              " 'more',\n",
              " 'time',\n",
              " 'im',\n",
              " 'gonna',\n",
              " 'up',\n",
              " 'with']"
            ]
          },
          "metadata": {
            "tags": []
          },
          "execution_count": 34
        }
      ]
    },
    {
      "cell_type": "markdown",
      "metadata": {
        "id": "nclclzeheogv",
        "colab_type": "text"
      },
      "source": [
        "in the word index list the repeated words come first and so on based on the frequency"
      ]
    },
    {
      "cell_type": "code",
      "metadata": {
        "id": "-1rA25p7dFAi",
        "colab_type": "code",
        "colab": {
          "base_uri": "https://localhost:8080/",
          "height": 68
        },
        "outputId": "7f7914c9-9ae0-4657-bfab-03800d8ddd01"
      },
      "source": [
        "sequences = tokenizer.texts_to_sequences(sentences)\n",
        "sequences"
      ],
      "execution_count": 35,
      "outputs": [
        {
          "output_type": "execute_result",
          "data": {
            "text/plain": [
              "[[4, 2, 5],\n",
              " [6, 7, 8, 9, 3],\n",
              " [10, 11, 12, 13, 2, 14, 15, 16, 17, 18, 19, 20, 3, 21, 22, 2]]"
            ]
          },
          "metadata": {
            "tags": []
          },
          "execution_count": 35
        }
      ]
    },
    {
      "cell_type": "code",
      "metadata": {
        "id": "KX1kBuL8j1Tz",
        "colab_type": "code",
        "colab": {
          "base_uri": "https://localhost:8080/",
          "height": 68
        },
        "outputId": "5def153d-c34a-4b34-8565-e2036726b12b"
      },
      "source": [
        "padded = pad_sequences(sequences,maxlen=10, padding='post')\n",
        "padded"
      ],
      "execution_count": 42,
      "outputs": [
        {
          "output_type": "execute_result",
          "data": {
            "text/plain": [
              "array([[ 4,  2,  5,  0,  0,  0,  0,  0,  0,  0],\n",
              "       [ 6,  7,  8,  9,  3,  0,  0,  0,  0,  0],\n",
              "       [15, 16, 17, 18, 19, 20,  3, 21, 22,  2]], dtype=int32)"
            ]
          },
          "metadata": {
            "tags": []
          },
          "execution_count": 42
        }
      ]
    },
    {
      "cell_type": "code",
      "metadata": {
        "id": "Ih41mC2yhgLh",
        "colab_type": "code",
        "colab": {}
      },
      "source": [
        "test_sentences = ['Out of all the things Joey said over the course of Friends', 'how you doin?, became the most famous.',' Since almost the beginning of the series, this was his catchphrase. ... No one can say how you doin quite like Joey Tribbiani did'] "
      ],
      "execution_count": 0,
      "outputs": []
    },
    {
      "cell_type": "code",
      "metadata": {
        "id": "4-kKI1o5iEMf",
        "colab_type": "code",
        "colab": {
          "base_uri": "https://localhost:8080/",
          "height": 170
        },
        "outputId": "af89a4fd-8406-42ea-fcbc-fa5f54f92d19"
      },
      "source": [
        "test_seq = tokenizer.texts_to_sequences(test_sentences)\n",
        "test_padding = pad_sequences(test_seq,padding='post')\n",
        "test_seq,test_padding"
      ],
      "execution_count": 44,
      "outputs": [
        {
          "output_type": "execute_result",
          "data": {
            "text/plain": [
              "([[1, 1, 1, 1, 1, 1, 1, 1, 1, 1, 1, 1],\n",
              "  [4, 2, 5, 1, 1, 1, 1],\n",
              "  [1, 1, 1, 1, 1, 1, 1, 1, 1, 1, 1, 1, 16, 1, 14, 4, 2, 5, 1, 1, 1, 1, 1]],\n",
              " array([[ 1,  1,  1,  1,  1,  1,  1,  1,  1,  1,  1,  1,  0,  0,  0,  0,\n",
              "          0,  0,  0,  0,  0,  0,  0],\n",
              "        [ 4,  2,  5,  1,  1,  1,  1,  0,  0,  0,  0,  0,  0,  0,  0,  0,\n",
              "          0,  0,  0,  0,  0,  0,  0],\n",
              "        [ 1,  1,  1,  1,  1,  1,  1,  1,  1,  1,  1,  1, 16,  1, 14,  4,\n",
              "          2,  5,  1,  1,  1,  1,  1]], dtype=int32))"
            ]
          },
          "metadata": {
            "tags": []
          },
          "execution_count": 44
        }
      ]
    },
    {
      "cell_type": "code",
      "metadata": {
        "id": "IjDp7ofXiIxI",
        "colab_type": "code",
        "colab": {}
      },
      "source": [
        ""
      ],
      "execution_count": 0,
      "outputs": []
    }
  ]
}